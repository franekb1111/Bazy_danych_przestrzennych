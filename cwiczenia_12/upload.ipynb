{
 "cells": [
  {
   "cell_type": "code",
   "execution_count": 7,
   "id": "4bde0b52",
   "metadata": {},
   "outputs": [],
   "source": [
    "import mapbox as m"
   ]
  },
  {
   "cell_type": "code",
   "execution_count": 10,
   "id": "58fbe71a",
   "metadata": {},
   "outputs": [],
   "source": [
    "u = m.Uploader('<token_id>')"
   ]
  },
  {
   "cell_type": "code",
   "execution_count": 11,
   "id": "540bfbd0",
   "metadata": {},
   "outputs": [],
   "source": [
    "r = u.upload('pois_karlsruhe.zip', tileset='pois')"
   ]
  }
 ],
 "metadata": {
  "kernelspec": {
   "display_name": "Python 3 (ipykernel)",
   "language": "python",
   "name": "python3"
  },
  "language_info": {
   "codemirror_mode": {
    "name": "ipython",
    "version": 3
   },
   "file_extension": ".py",
   "mimetype": "text/x-python",
   "name": "python",
   "nbconvert_exporter": "python",
   "pygments_lexer": "ipython3",
   "version": "3.10.8"
  }
 },
 "nbformat": 4,
 "nbformat_minor": 5
}
