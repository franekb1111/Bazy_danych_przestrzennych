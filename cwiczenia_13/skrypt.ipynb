{
 "cells": [
  {
   "cell_type": "code",
   "execution_count": 1,
   "id": "16812c2b-29fe-492f-b61f-4359809d3327",
   "metadata": {},
   "outputs": [],
   "source": [
    "import requests"
   ]
  },
  {
   "cell_type": "code",
   "execution_count": null,
   "id": "67ce617e-92d2-48b7-89b4-68823d9c67fe",
   "metadata": {},
   "outputs": [],
   "source": [
    "url = '<url>'"
   ]
  },
  {
   "cell_type": "code",
   "execution_count": 3,
   "id": "a5062e53-6166-43f1-ae86-1fd3d280e950",
   "metadata": {},
   "outputs": [],
   "source": [
    "header = { 'Authorization' : 'fmetoken <token_value>'}"
   ]
  },
  {
   "cell_type": "code",
   "execution_count": null,
   "id": "c26aee87-0cd8-4d93-8167-db3d18adfdd4",
   "metadata": {},
   "outputs": [],
   "source": [
    "response = requests.post(url, headers = header)"
   ]
  },
  {
   "cell_type": "code",
   "execution_count": null,
   "id": "187c430f-b170-4254-8507-133c61c5a3de",
   "metadata": {},
   "outputs": [],
   "source": []
  },
  {
   "cell_type": "code",
   "execution_count": null,
   "id": "15ed7a9f-3e28-44d0-984c-8c7ae5555616",
   "metadata": {},
   "outputs": [],
   "source": []
  }
 ],
 "metadata": {
  "kernelspec": {
   "display_name": "Python 3 (ipykernel)",
   "language": "python",
   "name": "python3"
  },
  "language_info": {
   "codemirror_mode": {
    "name": "ipython",
    "version": 3
   },
   "file_extension": ".py",
   "mimetype": "text/x-python",
   "name": "python",
   "nbconvert_exporter": "python",
   "pygments_lexer": "ipython3",
   "version": "3.10.8"
  }
 },
 "nbformat": 4,
 "nbformat_minor": 5
}
